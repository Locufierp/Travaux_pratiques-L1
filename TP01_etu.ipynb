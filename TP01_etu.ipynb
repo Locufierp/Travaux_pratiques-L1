{
 "cells": [
  {
   "cell_type": "markdown",
   "metadata": {},
   "source": [
    "#### Université d’Orléans -- Licence 1 semestre 1 -- 2024-25  <br> Algorithmique et Programmation 1      \n",
    "<h3 align=\"center\">TP 01</h3>\n"
   ]
  },
  {
   "cell_type": "markdown",
   "metadata": {},
   "source": [
    "# Exercice 1 - Premier et dernier chiffres d'un nombre entier\n",
    "\n",
    "Écrire un programme qui demande de saisir un nombre entier positif puis affiche le premier et le dernier chiffres de ce nombre.\n",
    "Il est interdit de convertir le nombre en string.<br>\n",
    "Par exemple, le premier chiffre de 3765 est 3 et son dernier chiffre est 5."
   ]
  },
  {
   "cell_type": "code",
   "execution_count": 4,
   "metadata": {},
   "outputs": [
    {
     "name": "stdin",
     "output_type": "stream",
     "text": [
      "Chiffre 2658\n"
     ]
    },
    {
     "name": "stdout",
     "output_type": "stream",
     "text": [
      "8\n",
      "2\n"
     ]
    }
   ],
   "source": [
    "\n",
    "n = int(input(\"Chiffre\"))\n",
    "\n",
    "dernier = n % 10\n",
    "\n",
    "premier = n \n",
    "\n",
    "while premier >= 10 : \n",
    "    premier = premier // 10\n",
    "\n",
    "\n",
    "print(premier)\n",
    "\n",
    "print(dernier)\n",
    "\n"
   ]
  },
  {
   "cell_type": "markdown",
   "metadata": {},
   "source": [
    "# Exercice 2 - Fizz-Buzz\n",
    "\n",
    "Écrire un programme qui affiche en ligne les n premiers entiers (n saisi par l'utilisateur), en remplaçant : \n",
    "\n",
    "- les multiples de 3 mais pas de 5 par \"fizz\",\n",
    "- les multiples de 5 mais pas de 3 par \"buzz\",\n",
    "- les multiples communs par \"fizzbuzz\".\n",
    "\n",
    "Voici un exemple d'exécution : "
   ]
  },
  {
   "cell_type": "markdown",
   "metadata": {},
   "source": [
    "entrez n : 21\n",
    "\n",
    "1, 2, fizz, 4, buzz, fizz, 7, 8, fizz, buzz, 11, fizz, 13, 14, fizzbuzz, 16, 17, fizz, 19, buzz, 21,"
   ]
  },
  {
   "cell_type": "code",
   "execution_count": 37,
   "metadata": {},
   "outputs": [
    {
     "name": "stdin",
     "output_type": "stream",
     "text": [
      "Chiffre 21\n"
     ]
    },
    {
     "name": "stdout",
     "output_type": "stream",
     "text": [
      "1, 2, fizz, 4, 5, fizz, 7, 8, fizz, 10, 11, fizz, 13, 14, fizzbuzz, 16, 17, fizz, 19, 20, fizz, "
     ]
    }
   ],
   "source": [
    "mul3 = 0\n",
    "mul5 = 0\n",
    "mul35 = 0\n",
    "n = int(input(\"Chiffre\"))\n",
    "for i in range (1,n+1):\n",
    "    if i % 3 == 0 and i % 5 != 0:\n",
    "        print(\"fizz\",end=\", \")\n",
    "    \n",
    "    elif i % 5 ==0 and i % 5 != 0 :\n",
    "        print(\"buzz\",end=\", \")\n",
    "        \n",
    "    elif i % 3== 0 and i % 5 == 0 :\n",
    "        print(\"fizzbuzz\",end=\", \")\n",
    "    else :\n",
    "        print(i,end=\", \")\n",
    "    "
   ]
  },
  {
   "cell_type": "markdown",
   "metadata": {},
   "source": [
    "# Exercice 3 - Triplets de Pythagore\n",
    "\n",
    "Un triplet d'entiers a, b, c est \"de Pythagore\" s'il existe un triangle rectangle dont les côtés ont pour dimensions a, b et c.\n",
    "\n",
    "Écrivez un programme qui demande à l'utilisateur un entier N puis qui liste, sans doublons, les triplets de Pythagore composés de 3 entiers a, b, c inférieurs ou égaux à N.\n",
    "\n",
    "Exemple de doublons : (a = 3, b = 4, c = 5) et (a = 3, b = 5, c = 4) seront considérés comme des doublons."
   ]
  },
  {
   "cell_type": "code",
   "execution_count": 42,
   "metadata": {},
   "outputs": [
    {
     "name": "stdin",
     "output_type": "stream",
     "text": [
      "chiffre 4\n",
      "chiffre  2\n",
      "chiffre  8\n"
     ]
    },
    {
     "name": "stdout",
     "output_type": "stream",
     "text": [
      "[2, 4, 8]\n"
     ]
    }
   ],
   "source": [
    "list=[]\n",
    "a=int(input(\"chiffre\"))\n",
    "b=int(input(\"chiffre \"))\n",
    "c=int(input(\"chiffre \"))\n",
    "\n",
    "list.append(a)\n",
    "list.append(b)\n",
    "list.append(c)\n",
    "list.sort()\n",
    "print(list)\n",
    "\n"
   ]
  },
  {
   "cell_type": "code",
   "execution_count": 53,
   "metadata": {},
   "outputs": [
    {
     "name": "stdin",
     "output_type": "stream",
     "text": [
      "Entrez un nombre  10\n"
     ]
    },
    {
     "name": "stdout",
     "output_type": "stream",
     "text": [
      "(3, 4, 5) est un triplet de pythagore\n",
      "(6, 8, 10) est un triplet de pythagore\n"
     ]
    }
   ],
   "source": [
    "n=int(input(\"Entrez un nombre \"))\n",
    "for a in range (1,n+1):\n",
    "    for b in range (a , n+1):\n",
    "        for c in range ( b , n+1):\n",
    "            if a**2 + b**2 == c**2 :\n",
    "                print((a,b,c),\"est un triplet de pythagore\")"
   ]
  },
  {
   "cell_type": "markdown",
   "metadata": {},
   "source": [
    "# Exercice 4 - Palindrome 1\n",
    "\n",
    "Un palindrome est un mot qui se lit identiquement de gauche à droite et de droite à gauche comme « radar » et « ressasser ».\n",
    "Écrivez un programme pour tester si un mot saisi en entrée est un palindrome. Par exemple, il affichera :\n",
    "\n",
    "« radar » est un palindrome\n",
    "\n",
    "« python » n’est pas un palindrome."
   ]
  },
  {
   "cell_type": "code",
   "execution_count": 70,
   "metadata": {},
   "outputs": [
    {
     "name": "stdin",
     "output_type": "stream",
     "text": [
      "entrez votre mot :  abba\n"
     ]
    },
    {
     "name": "stdout",
     "output_type": "stream",
     "text": [
      "True\n"
     ]
    }
   ],
   "source": [
    "# Détermine si une chaîne de caractères est un palindrome\n",
    "mot = input(\"entrez votre mot : \")\n",
    "i=0\n",
    "est_un_palindrome=mot[i]== mot[len(mot)-i-1]\n",
    "while est_un_palindrome and i <= len(mot) // 2 - 1 :\n",
    "    i += 1 \n",
    "    est_un_palindrome=mot[i]== mot[len(mot)-i-1]\n",
    "print(est_un_palindrome)\n",
    "    "
   ]
  },
  {
   "cell_type": "code",
   "execution_count": null,
   "metadata": {},
   "outputs": [],
   "source": [
    "# Détermine si une chaîne de caractères est un palindrome\n",
    "mot = input(\"entrez votre mot : \")\n",
    "mot_inverse = \"\" \n",
    "for lettre in mot :\n",
    "    mot_inverse = lettre + mot_inverse\n",
    "if mot == mot_inverse :\n",
    "    print(\"palindrome\")\n",
    "else : \n",
    "    print(\"pas palindrome\")\n",
    "print(mot)\n",
    "print(mot_inverse)"
   ]
  },
  {
   "cell_type": "markdown",
   "metadata": {},
   "source": [
    "## Exercice 5 - Palindrome 2\n",
    "\n",
    "Un phrase est un palindrome si, débarassée de tout caractère non alphabétique, elle forme un mot palindrome. \n",
    "\n",
    "Par exemple, \"elu par cette crapule !\" est une phrase palindrome car \"eluparcettecrapule\" est un mot palindrome.\n",
    "\n",
    "Ecrivez un programme qui dira si oui ou non la phrase saisie est une phrase palindrome.  "
   ]
  },
  {
   "cell_type": "code",
   "execution_count": 75,
   "metadata": {},
   "outputs": [
    {
     "name": "stdin",
     "output_type": "stream",
     "text": [
      "entrez votre mot :  eluparcette\n"
     ]
    },
    {
     "name": "stdout",
     "output_type": "stream",
     "text": [
      "True c'est un palindrome\n",
      "True c'est un palindrome\n",
      "True\n"
     ]
    }
   ],
   "source": [
    "# # Détermine si une chaîne de caractères est un palindrome\n",
    "phrase = input(\"entrez votre mot : \")\n",
    "i=0\n",
    "est_un_palindrome=mot[i]== mot[len(mot)-i-1]\n",
    "while est_un_palindrome and i <= len(mot) // 2 - 1 :\n",
    "    i += 1 \n",
    "    if mot[i]== mot[len(mot)-i-1]:\n",
    "        print(est_un_palindrome , \"c'est un palindrome\")\n",
    "    else mot[i]!= mot[len(mot)-i-1]:\n",
    "        print(est_un_palindrome , \"c'est n'est pas un palindrome\")\n",
    "print(est_un_palindrome)\n"
   ]
  },
  {
   "cell_type": "code",
   "execution_count": null,
   "metadata": {},
   "outputs": [],
   "source": [
    "# Détermine si une phrase est un palindrome\n",
    "phrase = input(\"entrez votre phrase : \")\n",
    "    "
   ]
  },
  {
   "cell_type": "markdown",
   "metadata": {},
   "source": [
    "# Exercice 6 - Séparation des nombres impairs et pairs\n",
    "\n",
    "Écrire un programme qui, à partir d'une liste d'entiers, crée et affiche 2 listes, l'une contenant les éléments pairs et l'autre les éléments impairs de la liste initiale.\n"
   ]
  },
  {
   "cell_type": "code",
   "execution_count": null,
   "metadata": {},
   "outputs": [],
   "source": [
    "# Séparation des nombres pairs et impairs\n",
    "# Liste l fournie au départ  \n",
    "l = [32, 5, 12, 8, 3, 75, 2, 15]\n"
   ]
  },
  {
   "cell_type": "markdown",
   "metadata": {},
   "source": [
    "# Exercice 7 - Hebdomadaires sportifs\n",
    "\n",
    "Trois hebdomadaires sportifs, Le sport, L'équipe et France Foot se partagent le marché de la presse papier du football. Un lecteur du panel étudié achète un unique hebdomadaire chaque semaine, mais son choix peut varier au cours du temps, ce qui fait que les parts de marché évoluent chaque semaine. Ainsi, d'une semaine à l'autre :\n",
    "\n",
    "- Le sport garde 70% de ses lecteurs. Un tiers de ceux qui partent achètent l'équipe, et les\n",
    "autres achètent France Foot.\n",
    "- L'équipe perd 40% de ses lecteurs, dont les trois quarts achètent Le sport et les autres\n",
    "France Foot.\n",
    "- France Foot perd 20% de ses lecteurs, qui se répartissent équitablement entre L'équipe\n",
    "et Le sport.\n",
    "\n",
    "Au début de l'étude (semaine 0), on a constaté la répartition suivante :\n",
    "- Le sport : 30%\n",
    "- L'équipe : 35%\n",
    "- France Foot : 35%\n",
    "\n",
    "On souhaite savoir comment évolue la répartition.\n",
    "\n",
    "Vous répondrez à cette question en faisant évoluer une liste (s, e, f) de trois valeurs représentant les parts de marché de chacun des 3 hebdomadaires.\n",
    "\n"
   ]
  },
  {
   "cell_type": "code",
   "execution_count": null,
   "metadata": {},
   "outputs": [],
   "source": []
  },
  {
   "cell_type": "markdown",
   "metadata": {},
   "source": [
    "# Exercice 8 - Composition d'un nombre\n",
    "\n",
    "Écrire un programme qui saisit un nombre entier (sans zéro inutile devant), puis affiche la composition du nombre saisi, selon le modèle décrit dans l'exemple suivant.\n",
    "\n",
    "Par exemple, si le nombre saisi est 127412377, le programme affichera :\n",
    "composition du nombre 127412377 :\n",
    "\n",
    "- 1 est présent 2 fois \n",
    "- 2 est présent 2 fois\n",
    "- 3 est présent 1 fois\n",
    "- 4 est présent 1 fois\n",
    "- 7 est présent 3 fois\n",
    "- chiffres absents : 0, 5, 6, 8, 9,\n"
   ]
  },
  {
   "cell_type": "code",
   "execution_count": null,
   "metadata": {},
   "outputs": [],
   "source": []
  }
 ],
 "metadata": {
  "kernelspec": {
   "display_name": "Python 3 (ipykernel)",
   "language": "python",
   "name": "python3"
  },
  "language_info": {
   "codemirror_mode": {
    "name": "ipython",
    "version": 3
   },
   "file_extension": ".py",
   "mimetype": "text/x-python",
   "name": "python",
   "nbconvert_exporter": "python",
   "pygments_lexer": "ipython3",
   "version": "3.10.12"
  }
 },
 "nbformat": 4,
 "nbformat_minor": 4
}
