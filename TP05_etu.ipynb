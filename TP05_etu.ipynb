{
 "cells": [
  {
   "cell_type": "markdown",
   "metadata": {},
   "source": [
    "#### Université d’Orléans -- Licence 1 semestre 1 -- 2024-25  <br> Algorithmique et Programmation 1      \n",
    "<h3 align=\"center\">TP 05</h3>\n"
   ]
  },
  {
   "cell_type": "markdown",
   "metadata": {},
   "source": [
    "# Dictionnaire des fréquences d'un texte\n",
    "\n",
    "Dans cet exercice on procède à l'analyse statistique de divers textes. Le but est de :\n",
    "- produire un dictionnaire des fréquences contenant la fréquence d'apparition de chaque caractère dans le texte ;\n",
    "- déterminer la \"signature\" d'un texte, c'est-à-dire le dictionnaire des 5 plus grosses fréquences dans le texte ;\n",
    "- reconnaître la langue d'un texte par similarité des signatures avec des textes références.\n",
    "\n"
   ]
  },
  {
   "cell_type": "markdown",
   "metadata": {},
   "source": [
    "## question 1\n",
    "\n",
    "Ecrivez une fonction *simplifier(nomFichier)* qui ouvre en mode lecture un fichier texte dont le nom sera passé en paramètre, puis qui :\n",
    "- supprime tous les accents en changeant les lettres accentuées en leur équivalent non accentué ;\n",
    "- met le texte en minuscules ;\n",
    "- sauvegarde ce texte simplifié dans un fichier dont le nom sera adapté à celui du fichier d'origine. Par exemple, le contenu du fichier \"fra.txt\" sera, une fois simplifié, sauvegardé dans un fichier \"fra_simp.txt\" ;\n",
    "\n",
    "Pour ces opérations on se servira à bon escient du dictionnaire **correspondances** dont les clés sont les lettres non accentuées et les valeurs des tuples de lettres accentuées correspondant à la clé.\n"
   ]
  },
  {
   "cell_type": "code",
   "execution_count": 8,
   "metadata": {},
   "outputs": [],
   "source": [
    "tuple_a = (\"â\",\"à\",\"ä\",\"á\",\"å\",\"ã\",\"À\",\"Á\",\"Ä\",\"Å\",\"Ã\")\n",
    "tuple_e = (\"é\",\"ê\",\"è\",\"ë\",\"É\",\"È\",\"Ê\")\n",
    "tuple_i = (\"î\",\"ï\",\"ì\",\"í\",\"Í\")\n",
    "tuple_o = (\"ô\",\"ö\",\"ő\",\"ò\",\"ó\",\"õ\",\"Ô\",\"Ó\",\"Ö\",\"Ő\")\n",
    "tuple_u = (\"û\",\"ü\",\"ù\",\"ú\",\"ű\",\"Ú\",\"Ü\")\n",
    "tuple_c = (\"ç\",\"Ç\")\n",
    "tuple_n = (\"ñ\",\"Ñ\")\n",
    "\n",
    "correspondances = {\"a\" : tuple_a, \"e\" : tuple_e, \"i\" : tuple_i, \"o\" : tuple_o, \"u\" : tuple_u, \"c\" : tuple_c, \"n\" : tuple_n}\n",
    "\n",
    "def simplifier(nomFichier) :\n",
    "    with open(nomFichier, 'r') as fichier :\n",
    "        contenu = fichier.read() \n",
    "    #remplacement des caractères accentués par leur corespondant simplifié \n",
    "    for lettre_de_remplacement , lettre_a_remplacer in correspondances.items():\n",
    "        for lettre in lettre_a_remplacer :\n",
    "            contenu = contenu.replace(lettre, lettre_de_remplacement)\n",
    "            #mise en minuscule\n",
    "            contenu = contenu.lower()\n",
    "            #fabrication du nom du fichier simplifié µ\n",
    "            liste = nomFichier.split('.')\n",
    "            prefixe = liste[0]\n",
    "            nomFichierSimplifie = prefixe + '_simp.txt'\n",
    "            # sauvegarder du contenu simplifié dans un fichier dont le nom est la valeur de la variable nomFichierSimplifie \n",
    "            with open (nomFichierSimplifie, 'w' ) as fichier2 :\n",
    "                fichier2.write(contenu)\n",
    "# test\n",
    "simplifier(\"le_grand_meaulnes.txt\")\n",
    "simplifier(\"tom_sawyer.txt\")\n",
    "simplifier(\"don_quijote.txt\")\n",
    "simplifier(\"germinal.txt\")\n",
    "simplifier(\"les_miserables.txt\")"
   ]
  },
  {
   "cell_type": "markdown",
   "metadata": {},
   "source": [
    "## question 2\n",
    "\n",
    "Ecrivez une fonction *statistiques(nomFichierSimplifie)* qui prend en paramètre un nom de fichier simplifié, et qui retourne un dictionnaire dont :\n",
    "- les clés sont les 26 lettres minuscules de l'alphabet ;\n",
    "- les valeurs correspondantes leur effectif dans le texte simplifié.\n"
   ]
  },
  {
   "cell_type": "code",
   "execution_count": 21,
   "metadata": {},
   "outputs": [
    {
     "name": "stdout",
     "output_type": "stream",
     "text": [
      "Le grand meaulnes : \n",
      "{'a': 27021, 'l': 16972, 'i': 21901, 'n': 20785, 'f': 3127, 'o': 14864, 'u': 19775, 'r': 19441, 'e': 50342, 'g': 3203, 'd': 10874, 'm': 8741, 's': 23521, 'p': 7662, 't': 21238, 'b': 2865, 'h': 2627, 'c': 8288, 'v': 5176, 'y': 688, 'x': 1133, 'z': 327, 'j': 2239, 'q': 3171, 'k': 14, 'w': 5}\n",
      "tom sawyer : \n",
      "{'c': 6497, 'h': 19564, 'a': 23473, 'p': 4679, 't': 28821, 'e': 35596, 'r': 15244, 'i': 18810, 'o': 23191, 'm': 7133, 'n': 20143, 's': 17712, 'w': 8040, 'g': 6605, 'b': 4957, 'y': 6723, 'd': 14849, 'u': 8942, 'l': 12136, 'k': 3024, 'v': 2367, 'f': 6003, 'j': 639, 'x': 349, 'z': 151, 'q': 176}\n"
     ]
    }
   ],
   "source": [
    "def statistiques(nomFichierSimplifie) :\n",
    "    #création du dictionnaire qui sera retourné \n",
    "    d={}\n",
    "    #récupération du contenu du fichier simplifié \n",
    "    with open (nomFichierSimplifie,'r') as fichier :\n",
    "        contenu = fichier.read()\n",
    "        for lettre in contenu :\n",
    "            if \"a\" <= lettre <= \"z\" :\n",
    "                if lettre in d.keys() :\n",
    "                    d[lettre] += 1 \n",
    "                else :\n",
    "                    d[lettre] = 1 \n",
    "        # on retourne d \n",
    "        return d\n",
    "            \n",
    "        \n",
    "    \n",
    "\n",
    "# test\n",
    "stats_lgm = statistiques(\"le_grand_meaulnes_simp.txt\")\n",
    "print(\"Le grand meaulnes : \")\n",
    "print(stats_lgm)\n",
    "stats_lgm = statistiques(\"tom_sawyer_simp.txt\")\n",
    "print(\"tom sawyer : \")\n",
    "print(stats_lgm)\n",
    "        "
   ]
  },
  {
   "cell_type": "markdown",
   "metadata": {},
   "source": [
    "## question 3\n",
    "\n",
    "Ecrivez une *frequences(nomFichierSimplifié)* qui prend en paramètre le nom d'un fichier simplifié, et qui renvoie un dictionnaire dont :\n",
    "- les clés sont les 26 lettres minuscules de l'alphabet ;\n",
    "- les valeurs correspondantes sont le pourcentage d'apparition de chaque lettre dans le texte simplifié."
   ]
  },
  {
   "cell_type": "code",
   "execution_count": 24,
   "metadata": {},
   "outputs": [
    {
     "name": "stdout",
     "output_type": "stream",
     "text": [
      "{'g': 0.010609766168427338, 'e': 0.1717102546674205, 'r': 0.06608012908061822, 'm': 0.02649201821866206, 'i': 0.07498491306750688, 'n': 0.0702943063504869, 'a': 0.09233329733644177, 'l': 0.06135394896487762, 'p': 0.02369569498351554, 't': 0.0737195164558731, 'd': 0.03763792632495029, 's': 0.07813951124691115, 'o': 0.04913067506876465, 'u': 0.0635467949002992, 'b': 0.010351859027702784, 'c': 0.030176405943298543, 'h': 0.010712674929012012, 'v': 0.016419664466621353, 'x': 0.004071883674986183, 'k': 6.987631891551953e-05, 'y': 0.0022957546960062506, 'z': 0.001224741298810197, 'q': 0.01015620533473933, 'f': 0.010947713456273305, 'j': 0.0038330337121476802, 'w': 1.143430673163047e-05}\n"
     ]
    }
   ],
   "source": [
    "def frequences(nomFichierSimplifie) :\n",
    "    # on récupère les satistiques du fichier simplifié \n",
    "    stats = statistiques(nomFichierSimplifie) \n",
    "\n",
    "\n",
    "    # on calcule le nombre total de lettres dans le fichier simplifié  \n",
    "    nbTotalLettres = 0 \n",
    "    for effectif in stats.values() : \n",
    "        nbTotalLettres += effectif \n",
    "\n",
    "    # on construit le dictionnaire des fréquences \n",
    "    freq = {}\n",
    "    for lettre , effectif in stats.items() :\n",
    "        freq[lettre] = effectif / nbTotalLettres\n",
    "\n",
    "    #on retourne freq \n",
    "    return freq \n",
    "    \n",
    "\n",
    "print(frequences(\"germinal_simp.txt\"))\n"
   ]
  },
  {
   "cell_type": "markdown",
   "metadata": {},
   "source": [
    "## question 4\n",
    "\n",
    "Ecrivez une fonction *signature(nomFichierSimplifie)* qui prend en paramètre un nom de fichier simplifié et qui renvoie le dictionnaire composé de 5 items dont :\n",
    "- les clés sont les 5 lettres les plus fréquentes dans le texte simplifié ;\n",
    "- les valeurs sont les fréquences de la *signature d'une langue* en calculant les 5 fréquences les plus importantes dans un texte représentatif. \n",
    "\n",
    "Exemples :\n",
    "\n",
    "- pour le roman (en français) \"Le Grand Meaulnes\" d'Alain-Fournier, on trouve comme signature :\n",
    "\n",
    "{'e': 0.1700917642126333, 'a': 0.09128409037118185, 's': 0.07947375895157527, 'i': 0.07399630779218144, 't': 0.07175799133075014}\n",
    "\n",
    "- pour le roman (en anglais) \"Tom Sawyer\" de Mark Twain, on trouve comme signature :\n",
    "{'e': 0.12032830331548489, 't': 0.09742617231867597, 'a': 0.07934785548163772, 'o': 0.07839458597003623, 'n': 0.06809116231272648}\n",
    "\n",
    " "
   ]
  },
  {
   "cell_type": "code",
   "execution_count": 30,
   "metadata": {},
   "outputs": [
    {
     "name": "stdout",
     "output_type": "stream",
     "text": [
      "{'e': 0.1717102546674205, 'a': 0.09233329733644177, 's': 0.07813951124691115, 'i': 0.07498491306750688, 't': 0.0737195164558731}\n",
      "{'e': 0.12032830331548489, 't': 0.09742617231867597, 'a': 0.07934785548163772, 'o': 0.07839458597003623, 'n': 0.06809116231272648}\n",
      "{'e': 0.1396564075825538, 'a': 0.12220367137260744, 'o': 0.09909847715490121, 's': 0.07662792789028394, 'n': 0.0687269615706736}\n",
      "{'e': 0.17007432432432432, 'a': 0.09128716216216216, 's': 0.07946283783783784, 'i': 0.07398986486486486, 't': 0.07175}\n",
      "{'e': 0.13126093079815612, 't': 0.09286585744536353, 'a': 0.08187265482417568, 'o': 0.0726972952722858, 'h': 0.07001560612465267}\n"
     ]
    }
   ],
   "source": [
    "def signature(nomFichierSimplifie) : \n",
    "    # pour trier les fréquences on peut commencer par créer une liste dont\n",
    "    #les valeurs seront les values du dictionaire retourné par la fonction frequences \n",
    "    #ensuite , on trie la liste ( avec la methode sort )\n",
    "    #puis on construit un dictionnaire ( la signature )  en récupérant les 5 plus fortes \n",
    "    #valeurs de la liste , et en recherchant la clé correspondant dans le dicttionaire de frequences \n",
    "    freq = frequences(nomFichierSimplifie)\n",
    "    liste_des_frequences= list(freq.values())\n",
    "    liste_des_frequences.sort(reverse=True)\n",
    "    \n",
    "    sgn={}\n",
    "    \n",
    "    for i in range(5):\n",
    "        frequence_a_retrouver = liste_des_frequences[i]\n",
    "        for lettre, frequence in freq.items() : \n",
    "            if frequence == frequence_a_retrouver :\n",
    "                sgn[lettre] = frequence\n",
    "    return sgn\n",
    "    \n",
    "print(signature(\"germinal_simp.txt\"))\n",
    "print(signature(\"tom_sawyer_simp.txt\"))\n",
    "print(signature(\"don_quijote_simp.txt\"))\n",
    "print(signature(\"le_grand_meaulnes_simp.txt\"))\n",
    "print(signature(\"les_miserables_simp.txt\"))"
   ]
  },
  {
   "cell_type": "markdown",
   "metadata": {},
   "source": [
    "## question 5\n",
    "\n",
    "Ecrivez une fonction *ecart(signature1, signature2)* qui prend en paramètres deux signatures (donc 2 dictionnaires du type décrit ci-dessus) et qui retourne un écart entre les deux, que vous calculerez en additionnant les valeurs absolues des 5 résultats obtenus en soustrayant les fréquences de même indice. \n",
    "\n",
    "Par exemple :\n",
    "- si signature1 = {'a' : 0.34, 'e' : 0.18, 'r' : 0.11, 'u' : 0.09, 'i' : 0.05}\n",
    "- et signature2 = {'b' : 0.32, 'a' : 0.21, 'f' : 0.13, 'm' : 0.05, 'j' : 0.03}\n",
    "\n",
    "alors ecart(signature1, signature2) = abs(0.34 - 0.32) + abs(0.18 - 0.21) + abs(0.11 - 0.13) + abs(0.09 - 0.05) + abs(0.05 - 0.03) \n",
    "\n",
    "donc ecart(signature1, signature2) = 0.02 + 0.03 + 0.02 + 0.04 + 0.02 = 0.13\n",
    "\n",
    "Il pourra être utile de récupérer les valeurs de signature1 et signature2 dans des listes qui, triées en ordre décroissant, pourront servir au calcul de l'écart."
   ]
  },
  {
   "cell_type": "code",
   "execution_count": null,
   "metadata": {},
   "outputs": [],
   "source": [
    "def ecart(signature1, signature2) :\n",
    "    pass\n",
    "\n",
    "print(ecart(signature(\"le_grand_meaulnes_simp.txt\"), signature(\"germinal_simp.txt\")))\n",
    "print(ecart(signature(\"le_grand_meaulnes_simp.txt\"), signature(\"don_quijote_simp.txt\")))\n",
    "print(ecart(signature(\"le_grand_meaulnes_simp.txt\"), signature(\"tom_sawyer_simp.txt\")))\n",
    "print(ecart(signature(\"le_grand_meaulnes_simp.txt\"), signature(\"les_miserables_simp.txt\")))\n",
    "print(ecart(signature(\"tom_sawyer_simp.txt\"), signature(\"les_miserables_simp.txt\")))"
   ]
  },
  {
   "cell_type": "markdown",
   "metadata": {},
   "source": [
    "## question 6\n",
    "\n",
    "On va considérer que la signature d'une langue en général est celle d'un texte représentatif (environ 300000 caractères) de cette langue.\n",
    "\n",
    "En utilisant les 3 romans\n",
    "\n",
    "- Le Grand Meaulnes - français, \n",
    "- Tom Sawyer - anglais, \n",
    "- Don Quijote - espagnol, \n",
    "\n",
    "on se dote d'un catalogue (voir ci-dessous) qui permettra la reconnaissance de la langue d'un autre texte. \n",
    "\n",
    "Ecrivez une fonction *reconnaître_langue(nomFichierSimplifie)* qui prend en paramètre un nom de fichier simplifié, et qui teste de quelle signature il est le plus proche.\n",
    "Pour cela, calculera les écarts entre la signature du fichier et celles des fichiers du catalogue, et on renverra la valeur (\"français\", \"anglais\" ou \"espagnol\") du fichier du catalogue dont il est le plus proche."
   ]
  },
  {
   "cell_type": "code",
   "execution_count": null,
   "metadata": {},
   "outputs": [],
   "source": [
    "catalogue = {\"le_grand_meaulnes_simp.txt\" : \"français\", \"tom_sawyer_simp.txt\" : \"anglais\", \"don_quijote_simp.txt\" : \"espagnol\"}\n",
    "\n",
    "\n",
    "def reconnaitre_langue(nomFichierSimplifie) : \n",
    "    pass\n",
    "\n",
    "print(reconnaitre_langue(\"germinal_simp.txt\"))       # attendu = français\n",
    "print(reconnaitre_langue(\"les_miserables_simp.txt\")) # attendu = anglais\n",
    "\n",
    "\n"
   ]
  }
 ],
 "metadata": {
  "kernelspec": {
   "display_name": "Python 3 (ipykernel)",
   "language": "python",
   "name": "python3"
  },
  "language_info": {
   "codemirror_mode": {
    "name": "ipython",
    "version": 3
   },
   "file_extension": ".py",
   "mimetype": "text/x-python",
   "name": "python",
   "nbconvert_exporter": "python",
   "pygments_lexer": "ipython3",
   "version": "3.10.12"
  }
 },
 "nbformat": 4,
 "nbformat_minor": 4
}
