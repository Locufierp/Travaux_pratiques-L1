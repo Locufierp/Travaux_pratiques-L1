{
 "cells": [
  {
   "cell_type": "markdown",
   "metadata": {},
   "source": [
    "#### Université d’Orléans -- Licence 1 semestre 1 -- 2024-25  <br> Algorithmique et Programmation 1      \n",
    "<h3 align=\"center\">TP 02</h3>\n"
   ]
  },
  {
   "cell_type": "markdown",
   "metadata": {},
   "source": [
    "# Exercice 1 - Travaux sur les triangles\n",
    "\n",
    "Dans cet exercice, on étudie des triangles dont les sommets sont des points à coordonnées de type float.\n",
    "Un des calculs importants de cet exercice : la distance entre deux points A(xA, yA) et B(xB, yB).\n",
    " \n",
    "1. Définissez une fonction *distance*, qui prend en paramètres 4 float xA, yA, xB, yB et qui retourne la distance entre A(xA, yA) et B(xB, yB).\n",
    "\n",
    "2. Définissez une fonction *perimetre* qui prend en paramètres 6 float xA, yA, xB, yB, xC, yC et qui retourne le périmètre du triangle défini par les points A(xA, yA), B(xB, yB) et C(xC, yC).\n",
    "\n",
    "3. Faites des recherches sur la \"Formule de Héron\", qui permet de calculer l'aire intérieure d'un triangle, à partir de son demi-périmètre et de la longueur des 3 côtés. Écrivez une fonction *aire* qui prend en paramètres 6 float xA, yA, xB, yB, xC, yC et qui retourne l'aire du triangle ABC. \n",
    "\n",
    "4. Dessinez au brouillon un triangle ABC, et placez un point M à l'intérieur du triangle. Donnez ensuite de façon intuitive une condition sur les aires de ABC, ABM, BCM et ACM pour exprimer que M est intérieur à ABC.\n",
    "\n",
    "5. Définissez une fonction *estInterieur* qui prend en paramètres 8 float xA, yA, xB, yB, xC, yC, xM, yM et qui retourne un booléen qui dit si M est intérieur à ABC.\n",
    "\n",
    "6. Testez votre fonction à partir de situations simples et pour lesquelles on sait à coup sûr si M est intérieur à ABC.\n",
    "\n",
    "7. Si certaines configurations ne fonctionnent pas, rappelez-vous que les calculs entre float peuvent générer des approximations... Améliorez votre fonction estInterieur pour palier à ces approximations en lui donnant une tolérance pour l'égalité entre float.\n"
   ]
  },
  {
   "cell_type": "code",
   "execution_count": 29,
   "metadata": {
    "scrolled": true
   },
   "outputs": [
    {
     "name": "stdout",
     "output_type": "stream",
     "text": [
      "5.0\n",
      "3.0\n",
      "1.4142135623730951\n",
      "12.0\n",
      "3.414213562373095\n",
      "6.0\n",
      "0.4999999999999998\n",
      "True\n",
      "False\n",
      "True\n"
     ]
    }
   ],
   "source": [
    "import math\n",
    "def distance( xA , yA , xB , yB ):\n",
    "    return math.sqrt ((xB - xA)**2 + ( yB - yA)**2 )\n",
    "\n",
    "print(distance(2,-1,5,3)) # résultat = 5\n",
    "print(distance(1, 2, 1, 5)) # résultat = 3\n",
    "print(distance(0, 0, 1, 1)) # résultat = 1.4\n",
    "\n",
    "def perimetre(xA, yA, xB, yB, xC, yC ):\n",
    "    a= distance(xB , yB ,  xC, yC )\n",
    "    b= distance(xA , yA ,  xC, yC )\n",
    "    c= distance(xA , yA,  xB, yB )\n",
    "    p = a + b + c\n",
    "    return p\n",
    "    \n",
    "print(perimetre(1 ,2 , 5 , 2 , 5, -1))\n",
    "print(perimetre(0 ,0 , 1 , 0 , 0, 1))\n",
    "\n",
    "def aire(xA, yA, xB, yB, xC, yC ):\n",
    "    p = perimetre(xA, yA, xB, yB, xC, yC ) / 2\n",
    "    a= distance(xB , yB ,  xC, yC )\n",
    "    b= distance(xA , yA ,  xC, yC )\n",
    "    c= distance(xA , yA,  xB, yB )\n",
    "    return math.sqrt(p*(p - a)*(p - b)*(p - c))\n",
    "\n",
    "print(aire(1,2,5,2,5,-1))\n",
    "print(aire(0,0,1,0,0,1))\n",
    "\n",
    " #def estInterieur (xA, yA, xB, yB, xC, yC ,xM , yM ):\n",
    "   # return (aire(xA, yA, xB, yB, xC, yC)==(xA, yA, xB, yB, xM , yM) + (xB , yB ,  xC, yC , xM , yM) + (xA, yA , xC, yC , xM , yM))\n",
    "\"\"\"\n",
    "def estInterieur (xA, yA, xB, yB, xC, yC ,xM , yM ):\n",
    "    res1 = aire(xA, yA, xB, yB, xC, yC) \n",
    "    res2 =(xA, yA, xB, yB, xM , yM) + (xB , yB ,  xC, yC , xM , yM) + (xA, yA , xC, yC , xM , yM)\n",
    "    return res1 == res2\n",
    "\n",
    "print(estInterieur(1 ,2,5,2,5,-1,4,1))\n",
    "print(estInterieur(1 ,2,5,2,5,-1,2,0))\n",
    "print(estInterieur(1 ,2,5,2,5,-1,4,1))\n",
    "\"\"\"\n",
    "def estInterieur2 (xA, yA, xB, yB, xC, yC ,xM , yM ):\n",
    "    res1 = aire(xA, yA, xB, yB, xC, yC) \n",
    "    res2 = aire(xA, yA, xB, yB, xM , yM) + aire(xB , yB ,  xC, yC , xM , yM) + aire(xA, yA , xC, yC , xM , yM)\n",
    "    tolerance = 1e-8\n",
    "    return abs(res1 - res2) < tolerance\n",
    "\n",
    "print(estInterieur2(1 ,2,5,2,5,-1,4,1))\n",
    "print(estInterieur2(1 ,2,5,2,5,-1,2,0))\n",
    "print(estInterieur2(1 ,2,5,2,5,-1,4,1))\n",
    "    "
   ]
  },
  {
   "cell_type": "markdown",
   "metadata": {},
   "source": [
    "# Exercice 2 - Face à face dans un couloir\n",
    "\n",
    "Deux personnes se croisent dans un couloir étroit, où il est tout juste possible de se croiser à\n",
    "deux. Ces deux personnes se voient au dernier moment et constatent qu'elles sont face à face.\n",
    "Chacune décide, ou non, de se décaler vers l'autre partie du couloir.\n",
    "\n",
    "On estime qu'une personne qui constate que sa route est bouchée se décale dans 75 % des cas. De\n",
    "plus, les deux personnes se décidant en même temps, elles le font sans savoir ce que l'autre\n",
    "s'apprête à faire.\n",
    "\n",
    "On partira du principe suivant : en cas de face à face, les personnes passent à la configuration suivante après une seconde. Ainsi, le nombre de phases aboutissant au débloquage est aussi le temps mis à se débloquer. \n",
    "\n",
    "On voudrait en savoir plus sur le temps qu'il faut pour débloquer la situation. \n",
    "\n",
    "Suggestions : \n",
    "- pour modéliser un événement qui se produit dans 75 % des cas, on peut tirer au hasard un float entre 0 et 1. S'il est entre 0 et 0.75, alors l'événement se réalise. S'il est supérieur à 0.75, il ne se réalise pas.\n",
    "- pour modéliser une position dans le couloir, on peut utiliser une variable entière prenant comme valeurs 0 ou 1. Par exemple côté gauche = 0 et côté droit = 1.\n",
    "- un débloquage correspond à deux variables \"position\" de valeurs différentes : 0 et 1 ou 1 et 0\n",
    "- un bloquage correspond à deux variables \"position\" de valeurs égales : 0 et 0 ou 1 et 1\n",
    "\n",
    "Prolongement :\n",
    "- Et si les probabilités de changement de chacun ne valent pas 0.75 ? Si par exemple on a des probabilités pA et pB ? "
   ]
  },
  {
   "cell_type": "code",
   "execution_count": 48,
   "metadata": {},
   "outputs": [
    {
     "name": "stdin",
     "output_type": "stream",
     "text": [
      "probabilité de changement pour A ? 0.9\n",
      "probabilité de changement pour B ? 0.8\n"
     ]
    },
    {
     "name": "stdout",
     "output_type": "stream",
     "text": [
      "0 0 0\n",
      "1 0 1\n",
      "temps = 1\n"
     ]
    }
   ],
   "source": [
    "import random\n",
    "\n",
    "A=0\n",
    "B=0\n",
    "temps = 0\n",
    "pA= float(input(\"probabilité de changement pour A ?\"))\n",
    "pB= float(input(\"probabilité de changement pour B ?\"))\n",
    "print(A , B , temps)\n",
    "\n",
    "\n",
    "# on change la position A et la position B \n",
    "while A == B:\n",
    "    aleatoireA=random.random()\n",
    "    aleatoireB=random.random()\n",
    "    if aleatoireA <= 0.75 :\n",
    "        A= 1 -A\n",
    "    if aleatoireB <= 0.75 :\n",
    "        B= 1 -B\n",
    "    temps +=1\n",
    "    print(A , B , temps)\n",
    "\n",
    "print(\"temps =\" ,temps)\n",
    "   \n",
    "  \n",
    "            \n",
    "        \n",
    "        "
   ]
  },
  {
   "attachments": {
    "quart_de_disque.png": {
     "image/png": "[encoded data removed]"
    }
   },
   "cell_type": "markdown",
   "metadata": {},
   "source": [
    "# Exercice 3 - Comparaison de deux zones géométriques\n",
    "\n",
    "On trace un quart de cercle de rayon 1. Sur chacun des deux bords droits du quart de cercle, on dessine un demi-cercle de rayon 0.5. Cela délimite plusieurs zones, dont la bleue et la rouge comme ci-dessous. Le quadrillage est dessiné tous les  en x et en y.\n",
    "\n",
    "![quart_de_disque.png](attachment:quart_de_disque.png)"
   ]
  },
  {
   "cell_type": "markdown",
   "metadata": {},
   "source": [
    "L'objectif de l'exercice est d'avoir un élément de comparaison de la taille de ces deux zones, qui ne soit pas basé sur des arguments de calcul géométrique (des calculs d'aires).\n",
    "\n",
    "On utilisera un repère dont l'origine O(0,0) est le point inférieur gauche du graphique, et dont les coins sur les axes sont de coordonnées (1,0) et (0,1).\n",
    "\n",
    "On pourra aussi utiliser les points importants A(0.5,0) et B(0,0.5).\n",
    "\n",
    "1. Exprimer, en termes de distances, à quelle condition un point M(x,y) appartient à la zone bleue.\n",
    "2. Même question pour un point M(x,y) de la zone rouge.\n",
    "\n",
    "Par la suite, on va procéder à de multiples tirages aléatoires de points du carré de côté 10. En comptant combien de points tombent dans la zone rouge ou la zone bleue, on obtiendra un indice pour comparer ces zones.\n",
    "\n",
    "3. écrivez des fonctions AM(x, y), BM(x, y) et OM(x, y) qui retournent, pour des x et y float entre 0 et 1, la valeur des distances AM, BM et OM.\n",
    "4. écrivez les fonctions rouge(x, y) et bleue(x, y) qui retournent un booléen disant si oui ou non le point M(x, y) est dans la zone rouge (ou bleue).\n",
    "5. écrivez le programme principal qui permet de comparer les deux zones.\n",
    "\n"
   ]
  },
  {
   "cell_type": "markdown",
   "metadata": {},
   "source": [
    "exemple d'exécution :\n",
    "\n",
    "nombre de points ? 10000\n",
    "\n",
    "sur 10000 points : \n",
    "- 1464 points dans la zone rouge\n",
    "- 1422 points dans la zone bleue"
   ]
  },
  {
   "cell_type": "code",
   "execution_count": null,
   "metadata": {},
   "outputs": [],
   "source": [
    "import random \n",
    "def AM(x,y)\n",
    "    return distance(0.5,0,x,y)\n",
    "\n",
    "def BM(x,y)\n",
    "    return distance(0,0.5,x,y)\n",
    "\n",
    "def OM(x,y)\n",
    "    return distance(0,0,x,y)\n",
    "\n",
    "def rouge(x,y) :\n",
    "    return AM(x,y) <= 0.5 and BM(x,y) <= 0.5\n",
    "\n",
    "def bleu(x,y) :\n",
    "    return AM(x,y) >= 0.5 and OM(x,y) <= 1 and BM(x,y) >= 0.5\n",
    "\n",
    "\n",
    "    \n",
    "    "
   ]
  }
 ],
 "metadata": {
  "kernelspec": {
   "display_name": "Python 3 (ipykernel)",
   "language": "python",
   "name": "python3"
  },
  "language_info": {
   "codemirror_mode": {
    "name": "ipython",
    "version": 3
   },
   "file_extension": ".py",
   "mimetype": "text/x-python",
   "name": "python",
   "nbconvert_exporter": "python",
   "pygments_lexer": "ipython3",
   "version": "3.10.12"
  }
 },
 "nbformat": 4,
 "nbformat_minor": 4
}
