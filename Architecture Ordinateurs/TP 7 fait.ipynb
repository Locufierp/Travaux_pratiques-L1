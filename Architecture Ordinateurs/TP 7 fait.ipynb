{
 "cells": [
  {
   "cell_type": "markdown",
   "metadata": {},
   "source": [
    "#### Université d’Orléans -- Licence 1 semestre 1 -- 2024-25  <br> Algorithmique et Programmation 1      \n",
    "<h3 align=\"center\">TP 07</h3>\n"
   ]
  },
  {
   "cell_type": "markdown",
   "metadata": {},
   "source": [
    "# Exercice 1 - Exploitation d'un fichier csv\n",
    "\n",
    "On rappelle qu'un fichier csv est un fichier texte (donc utilisable directement avec un éditeur de texte comme gedit) qui regroupe des données par ligne, avec un séparateur de données (classiquement la virgule, le point-virgule, mais on peut en utiliser d'autres).\n",
    "\n",
    "Un fichier csv peut aussi être ouvert avec un logiciel tableur comme LibreOffice, qui va le présenter dans une interface de tableau très lisible, à condition qu'on ait indiqué au logiciel quels sont les séparateurs utilisés.\n",
    "\n",
    "Ici, le fichier qui nous intéresse est *ligue1.csv*. C'est un fichier qui regroupe l'ensemble des résultats des matchs du championnat de football de première division française sur la saison 1995 - 1996. \n",
    "\n",
    "Téléchargez ce fichier de Celene et placez-le à la racine du répertoire où vous avez placé ce notebook.\n",
    "Téléchargez aussi *notes.txt* qui explique les abbréviations utilisées dans le fichier csv.\n",
    "\n"
   ]
  },
  {
   "cell_type": "markdown",
   "metadata": {},
   "source": [
    "## question 1\n",
    "Récupérez les noms des équipes dans une liste python, triée par ordre alphabétique. Vous ferez attention de ne pas utiliser la première ligne qui n'est que la ligne des titres de colonnes."
   ]
  },
  {
   "cell_type": "code",
   "execution_count": null,
   "metadata": {},
   "outputs": [],
   "source": [
    "def liste_equipes(nomFichier) :\n",
    "    with open ( 'ligue.csv' ,'r' ) as fichier\n",
    "        contenu = fichier.read()\n",
    "        for listes_equipes in contenu :\n",
    "            if \"a\" <= lettre <= \"z\" :\n",
    "\n",
    "# test\n",
    "equipes = liste_equipes(\"ligue1.csv\")\n",
    "print(equipes)\n",
    "\n"
   ]
  },
  {
   "cell_type": "code",
   "execution_count": null,
   "metadata": {},
   "outputs": [],
   "source": [
    "def liste_equipes(nomFichier) :\n",
    "    with open ( 'ligue.csv' ,'r' ) as fichier\n",
    "        lignes = f.readlines()\n",
    "        \n",
    "    # on parcourt toutes les lignes à partir de la ligne 1\n",
    "    \n",
    "    \n",
    "    print(lignes[1])\n",
    "    print(lignes[1].split(','))\n",
    "    print(lignes[1].split(',')[1])\n",
    "        \n",
    "\n",
    "# test\n",
    "equipes = liste_equipes(\"ligue1.csv\")\n",
    "print(equipes)\n",
    "\n"
   ]
  },
  {
   "cell_type": "code",
   "execution_count": 1,
   "metadata": {},
   "outputs": [
    {
     "name": "stdout",
     "output_type": "stream",
     "text": [
      "['Bastia', 'Bordeaux', 'Cannes', 'Gueugnon', 'Guingamp', 'Lens', 'Monaco', 'Montpellier', 'Nantes', 'St Etienne', 'Auxerre', 'Lille', 'Lyon', 'Martigues', 'Metz', 'Nice', 'Paris SG', 'Rennes', 'Strasbourg', 'Le Havre']\n"
     ]
    }
   ],
   "source": [
    "def liste_equipes(nomFichier) :\n",
    "    noms_equipes = []\n",
    "    with open(\"ligue1.csv\",\"r\") as f:\n",
    "        lignes = f.readlines()\n",
    "        for i in range (1,len(lignes)):\n",
    "            if lignes[i].split(\",\")[1] not in noms_equipes:\n",
    "                noms_equipes.append(lignes[i].split(\",\")[1])\n",
    "        return noms_equipes\n",
    "        \n",
    "        \n",
    "\n",
    "# test\n",
    "equipes = liste_equipes(\"ligue1.csv\")\n",
    "print(equipes)"
   ]
  },
  {
   "cell_type": "markdown",
   "metadata": {},
   "source": [
    "## question 2\n",
    "Ecrivez une fonction *matchs_de(equipe, nomFichier)* qui retourne la liste de tous les matchs de l'équipe passée en paramètre sous forme de chaîne de caractères. Cette liste sera d'emblée triée par ordre croissant des dates de matchs en principe. De plus, on ne retiendra que la date, le nom des deux équipes, le score de chaque équipe en fin de match et le type du résultat (H, D ou A).\n"
   ]
  },
  {
   "cell_type": "code",
   "execution_count": 17,
   "metadata": {},
   "outputs": [
    {
     "name": "stdout",
     "output_type": "stream",
     "text": [
      "['19/07/95', 'Bastia', 'Paris SG', '2', '2', 'D']\n",
      "['26/07/95', 'Lille', 'Bastia', '0', '2', 'A']\n",
      "['05/08/95', 'Bastia', 'Bordeaux', '2', '0', 'H']\n",
      "['09/08/95', 'Bastia', 'Monaco', '2', '1', 'H']\n",
      "['19/08/95', 'St Etienne', 'Bastia', '3', '0', 'H']\n",
      "['26/08/95', 'Bastia', 'Gueugnon', '1', '2', 'A']\n",
      "['30/08/95', 'Guingamp', 'Bastia', '1', '0', 'H']\n",
      "['09/09/95', 'Bastia', 'Nantes', '4', '1', 'H']\n",
      "['17/09/95', 'Lens', 'Bastia', '3', '1', 'H']\n",
      "['21/09/95', 'Bastia', 'Cannes', '2', '1', 'H']\n",
      "['30/09/95', 'Rennes', 'Bastia', '2', '0', 'H']\n",
      "['04/10/95', 'Bastia', 'Le Havre', '1', '0', 'H']\n",
      "['14/10/95', 'Montpellier', 'Bastia', '4', '3', 'H']\n",
      "['21/10/95', 'Bastia', 'Strasbourg', '1', '1', 'D']\n",
      "['27/10/95', 'Lyon', 'Bastia', '1', '1', 'D']\n",
      "['04/11/95', 'Bastia', 'Metz', '1', '0', 'H']\n",
      "['08/11/95', 'Auxerre', 'Bastia', '3', '0', 'H']\n",
      "['18/11/95', 'Bastia', 'Martigues', '2', '0', 'H']\n",
      "['25/11/95', 'Nice', 'Bastia', '3', '1', 'H']\n",
      "['01/12/95', 'Bastia', 'Lille', '4', '0', 'H']\n",
      "['09/12/95', 'Bordeaux', 'Bastia', '1', '3', 'A']\n",
      "['16/12/95', 'Monaco', 'Bastia', '0', '0', 'D']\n",
      "['10/01/96', 'Bastia', 'St Etienne', '0', '0', 'D']\n",
      "['20/01/96', 'Gueugnon', 'Bastia', '1', '0', 'H']\n",
      "['27/01/96', 'Bastia', 'Guingamp', '0', '1', 'A']\n",
      "['07/02/96', 'Nantes', 'Bastia', '3', '1', 'H']\n",
      "['10/02/96', 'Bastia', 'Lens', '3', '2', 'H']\n",
      "['17/02/96', 'Cannes', 'Bastia', '1', '0', 'H']\n",
      "['02/03/96', 'Le Havre', 'Bastia', '1', '0', 'H']\n",
      "['09/03/96', 'Bastia', 'Montpellier', '1', '0', 'H']\n",
      "['23/03/96', 'Strasbourg', 'Bastia', '4', '3', 'H']\n",
      "['30/03/96', 'Bastia', 'Lyon', '0', '0', 'D']\n",
      "['05/04/96', 'Bastia', 'Rennes', '0', '0', 'D']\n",
      "['10/04/96', 'Metz', 'Bastia', '2', '0', 'H']\n",
      "['20/04/96', 'Bastia', 'Auxerre', '1', '1', 'D']\n",
      "['27/04/96', 'Martigues', 'Bastia', '3', '1', 'H']\n",
      "['11/05/96', 'Bastia', 'Nice', '1', '2', 'A']\n",
      "['18/05/96', 'Paris SG', 'Bastia', '5', '1', 'H']\n"
     ]
    }
   ],
   "source": [
    "def matchs_de(equipe, nomFichier) :\n",
    "    \n",
    "    matchs = []\n",
    "    with open(\"ligue1.csv\",\"r\") as f:\n",
    "        lignes = f.readlines()\n",
    "        for ligne in lignes[1:]:\n",
    "            ligne_splitee = ligne.split(\",\")            \n",
    "            if equipe == ligne_splitee[1] or equipe == ligne_splitee[2]:\n",
    "                match = ligne_splitee[0:6]\n",
    "                matchs.append(match)\n",
    "    return matchs\n",
    "                \n",
    "  \n",
    "# test\n",
    "for match in matchs_de(\"Bastia\", \"ligue1.csv\") :\n",
    "    print(match)"
   ]
  },
  {
   "cell_type": "markdown",
   "metadata": {},
   "source": [
    "## question 3\n",
    "Pour une victoire, une équipe marque 3 points. Pour un match nul, 1 point et, pour une défaite, 0 point.\n",
    "Ecrivez une fonction *nb_points_apres_n_journees(equipe, nb_journees, nomFichier)* qui retourne le nombre de points inscrits par l'équipe passée en paramètre après les nb_journees premières journées du championnat."
   ]
  },
  {
   "cell_type": "code",
   "execution_count": 26,
   "metadata": {},
   "outputs": [
    {
     "name": "stdout",
     "output_type": "stream",
     "text": [
      "nombre de journées pour le calcul ? 60\n",
      "equipe = ? Lille\n",
      "Lille a obtenu 39 points après les 60 premières journées.\n"
     ]
    }
   ],
   "source": [
    "def nb_points_apres_n_journees(equipe, nb_journees, nomFichier) :\n",
    "    matchs = matchs_de(equipe , nomFichier)[0: nb_journees]\n",
    "    nb_points =0 \n",
    "    for match in matchs :\n",
    "        match_a_domicile = (equipe == match[1])\n",
    "        if match_a_domicile :\n",
    "            buts_pour = match[3]\n",
    "            buts_contre = match[4]\n",
    "        else :\n",
    "            buts_pour = match[4]\n",
    "            buts_contre = match[3]\n",
    "        if buts_pour > buts_contre : \n",
    "            nb_points +=3\n",
    "        elif buts_pour == buts_contre :\n",
    "            nb_points += 1\n",
    "    return nb_points\n",
    "# test \n",
    "# pour n = 38 Auxerre a 72 points, Paris SG 68, etc\n",
    "# voir https://fr.wikipedia.org/wiki/Championnat_de_France_de_football_1995-1996#R%C3%A9sultats\n",
    "\n",
    "n = int(input(\"nombre de journées pour le calcul ? \"))\n",
    "eq = input(\"equipe = ? \" )\n",
    "#print(nb_points_apres_n_journees(eq, n , \"ligue1.csv\"))\n",
    "#for equipe in equipes :\n",
    "nbp = nb_points_apres_n_journees(eq,n,\"ligue1.csv\")\n",
    "print(\"{0} a obtenu {1} points après les {2} premières journées.\".format(eq, nb_points_apres_n_journees(eq, n, \"ligue1.csv\"), n))"
   ]
  },
  {
   "cell_type": "markdown",
   "metadata": {},
   "source": [
    "## question 4\n",
    "Ecrivez une fonction *nb_max_points_apres_n_journees(n, nomFichier)* qui retourne le nombre de points maximum obtenu par l'une des équipes après *n* journées."
   ]
  },
  {
   "cell_type": "code",
   "execution_count": 28,
   "metadata": {},
   "outputs": [
    {
     "name": "stdout",
     "output_type": "stream",
     "text": [
      "journée 1 : max_points = 3\n",
      "journée 2 : max_points = 6\n",
      "journée 3 : max_points = 7\n",
      "journée 4 : max_points = 10\n",
      "journée 5 : max_points = 11\n",
      "journée 6 : max_points = 14\n",
      "journée 7 : max_points = 17\n",
      "journée 8 : max_points = 20\n",
      "journée 9 : max_points = 20\n",
      "journée 10 : max_points = 23\n",
      "journée 11 : max_points = 25\n",
      "journée 12 : max_points = 28\n",
      "journée 13 : max_points = 31\n",
      "journée 14 : max_points = 32\n",
      "journée 15 : max_points = 32\n",
      "journée 16 : max_points = 34\n",
      "journée 17 : max_points = 37\n",
      "journée 18 : max_points = 38\n",
      "journée 19 : max_points = 41\n",
      "journée 20 : max_points = 42\n",
      "journée 21 : max_points = 45\n",
      "journée 22 : max_points = 46\n",
      "journée 23 : max_points = 47\n",
      "journée 24 : max_points = 48\n",
      "journée 25 : max_points = 51\n",
      "journée 26 : max_points = 51\n",
      "journée 27 : max_points = 51\n",
      "journée 28 : max_points = 51\n",
      "journée 29 : max_points = 54\n",
      "journée 30 : max_points = 57\n",
      "journée 31 : max_points = 60\n",
      "journée 32 : max_points = 60\n",
      "journée 33 : max_points = 61\n",
      "journée 34 : max_points = 64\n",
      "journée 35 : max_points = 65\n",
      "journée 36 : max_points = 68\n",
      "journée 37 : max_points = 69\n",
      "journée 38 : max_points = 72\n"
     ]
    }
   ],
   "source": [
    "def nb_max_points_apres_n_journees(n, nomFichier) :\n",
    "    equipes = liste_equipes(nomFichier)\n",
    "    points_des_equipes_apres_n_journees = []\n",
    "    for equipe in equipes :\n",
    "        points_equipe = nb_points_apres_n_journees(equipe, n , nomFichier)\n",
    "        points_des_equipes_apres_n_journees.append(points_equipe)\n",
    "    return max(points_des_equipes_apres_n_journees)\n",
    "    \n",
    "    \n",
    "    return max(points_des_equipes_apres_n_journees)\n",
    "# test\n",
    "for i in range(1, 39) :\n",
    "    print(\"journée {0} : max_points = {1}\".format(i, nb_max_points_apres_n_journees(i, \"ligue1.csv\")))  "
   ]
  },
  {
   "cell_type": "markdown",
   "metadata": {},
   "source": [
    "## question 5\n",
    "Ecrivez une fonction *coleaders_apres_n_journees(n, nomFichier)* qui retourne la liste des coleaders éventuels après *n* journées (autrement dit, la liste des équipes qui ont le plus de points après *n* journées).\n"
   ]
  },
  {
   "cell_type": "code",
   "execution_count": 29,
   "metadata": {},
   "outputs": [
    {
     "name": "stdout",
     "output_type": "stream",
     "text": [
      "après 1 journées, leaders = ['Bordeaux', 'Cannes', 'Guingamp', 'Lens', 'Monaco', 'Nantes']\n",
      "après 2 journées, leaders = ['Bordeaux', 'Monaco', 'Nantes']\n",
      "après 3 journées, leaders = ['Bastia', 'Monaco', 'Metz']\n",
      "après 4 journées, leaders = ['Bastia', 'Metz']\n",
      "après 5 journées, leaders = ['Guingamp', 'Metz', 'Paris SG']\n",
      "après 6 journées, leaders = ['Metz', 'Paris SG']\n",
      "après 7 journées, leaders = ['Paris SG']\n",
      "après 8 journées, leaders = ['Paris SG']\n",
      "après 9 journées, leaders = ['Paris SG']\n",
      "après 10 journées, leaders = ['Paris SG']\n",
      "après 11 journées, leaders = ['Metz']\n",
      "après 12 journées, leaders = ['Metz']\n",
      "après 13 journées, leaders = ['Metz']\n",
      "après 14 journées, leaders = ['Metz']\n",
      "après 15 journées, leaders = ['Metz']\n",
      "après 16 journées, leaders = ['Paris SG']\n",
      "après 17 journées, leaders = ['Paris SG']\n",
      "après 18 journées, leaders = ['Paris SG']\n",
      "après 19 journées, leaders = ['Paris SG']\n",
      "après 20 journées, leaders = ['Paris SG']\n",
      "après 21 journées, leaders = ['Paris SG']\n",
      "après 22 journées, leaders = ['Paris SG']\n",
      "après 23 journées, leaders = ['Paris SG']\n",
      "après 24 journées, leaders = ['Paris SG']\n",
      "après 25 journées, leaders = ['Paris SG']\n",
      "après 26 journées, leaders = ['Paris SG']\n",
      "après 27 journées, leaders = ['Metz', 'Paris SG']\n",
      "après 28 journées, leaders = ['Metz', 'Paris SG']\n",
      "après 29 journées, leaders = ['Paris SG']\n",
      "après 30 journées, leaders = ['Paris SG']\n",
      "après 31 journées, leaders = ['Paris SG']\n",
      "après 32 journées, leaders = ['Paris SG']\n",
      "après 33 journées, leaders = ['Auxerre', 'Metz']\n",
      "après 34 journées, leaders = ['Auxerre']\n",
      "après 35 journées, leaders = ['Auxerre']\n",
      "après 36 journées, leaders = ['Auxerre']\n",
      "après 37 journées, leaders = ['Auxerre']\n",
      "après 38 journées, leaders = ['Auxerre']\n"
     ]
    }
   ],
   "source": [
    "def coleaders_apres_n_journees(n, nomFichier) :\n",
    "    colead = []\n",
    "    max_points = nb_max_points_apres_n_journees(n, nomFichier)\n",
    "    equipes = liste_equipes(nomFichier)\n",
    "    for equipe in equipes :\n",
    "        nb_points_equipe = nb_points_apres_n_journees(equipe, n, nomFichier)\n",
    "        if nb_points_equipe == max_points :\n",
    "            colead.append(equipe)\n",
    "    return colead\n",
    "\n",
    "# test \n",
    "for i in range(1, 39) :\n",
    "    print(\"après {0} journées, leaders = {1}\".format(i, coleaders_apres_n_journees(i, \"ligue1.csv\")))"
   ]
  },
  {
   "cell_type": "markdown",
   "metadata": {},
   "source": [
    "# Exercice 2 - Ecriture dans un fichier csv\n",
    "Dans cet exercice, on fait le bilan chiffré de la saison, équipe par équipe. Ce bilan global est écrit dans un fichier csv.\n"
   ]
  },
  {
   "cell_type": "markdown",
   "metadata": {},
   "source": [
    "## question 1\n",
    "Ecrivez une fonction *bilan(equipe, nomFichier)* qui retourne le bilan chiffré de l'équipe sous forme d'un dictionnaire. Ce dictionnaire sera par exemple, pour les équipes d'Auxerre, Lille et Metz :\n",
    "\n",
    "{'nom': 'Auxerre', 'pts': 72, 'G': 22, 'N': 6, 'D': 10, 'bp': 66, 'bc': 30, 'diff': 36}\n",
    "\n",
    "{'nom': 'Paris SG', 'pts': 68, 'G': 19, 'N': 11, 'D': 8, 'bp': 65, 'bc': 36, 'diff': 29}\n",
    "\n",
    "{'nom': 'Monaco', 'pts': 68, 'G': 19, 'N': 11, 'D': 8, 'bp': 64, 'bc': 39, 'diff': 25}\n",
    "\n",
    "- pts : nombre total de points\n",
    "- G : nombre total de victoires\n",
    "- N : nombre total de matchs nuls\n",
    "- D : nombre total de défaites\n",
    "- bp : nombre total de buts marqués (buts pour)\n",
    "- bc : nombre total de buts encaissés (buts contre)\n",
    "- diff : différence de buts (bp - bc)"
   ]
  },
  {
   "cell_type": "code",
   "execution_count": null,
   "metadata": {},
   "outputs": [],
   "source": [
    "def bilan(equipe, nomFichier) :\n",
    "    pass\n",
    "\n",
    "\n",
    "# test \n",
    "print(bilan('Auxerre', 'ligue1.csv'))\n",
    "print(bilan('Paris SG', 'ligue1.csv'))\n",
    "print(bilan('Monaco', 'ligue1.csv'))"
   ]
  },
  {
   "cell_type": "markdown",
   "metadata": {},
   "source": [
    "## question 2\n",
    "Pour départager les équipes qui ont le même nombre de points, il y a un moyen simple : on va ajouter une paire clé/valeur au dictionnaire, construite ainsi : à la clé \"pts_diff\" on fera correspondre la valeur pts + diff / 1000. Ainsi, si la différence de buts n'est pas la même, ce nouvel indicateur fera une différence. \n",
    "\n",
    "Par exemple, pour Paris SG et Monaco, qui ont 68 points chacune, ce nouvel indicateur donne 68 + 0.029 = 68.029 pour Paris SG et \"seulement\" 68.025 pour Monaco, ce qui placera Paris SG devant Monaco au classement final.\n",
    "\n",
    "Ecrivez une fonction *bilan_ameliore(equipe, nomFichier)* qui retourne le bilan classique de l'équipe, enrichi de la paire clé / valeur décrite ci-dessus."
   ]
  },
  {
   "cell_type": "code",
   "execution_count": 20,
   "metadata": {},
   "outputs": [],
   "source": [
    "def bilan_ameliore(equipe, nomFichier) :\n",
    "    pass\n",
    "\n",
    "# test \n",
    "print(bilan_ameliore('Auxerre', 'ligue1.csv'))\n",
    "print(bilan_ameliore('Paris SG', 'ligue1.csv'))\n",
    "print(bilan_ameliore('Monaco', 'ligue1.csv'))"
   ]
  },
  {
   "cell_type": "markdown",
   "metadata": {},
   "source": [
    "## question 3\n",
    "Ecrivez une fonction *liste_bilans(nomFichier)* qui retourne la liste composée de tous les dictionnaires de type bilan amélioré."
   ]
  },
  {
   "cell_type": "code",
   "execution_count": null,
   "metadata": {},
   "outputs": [],
   "source": [
    "def liste_bilans(nomFichier) :\n",
    "    pass\n",
    "    \n",
    "# test\n",
    "liste = liste_bilans(\"ligue1.csv\")\n",
    "for d in liste :\n",
    "    print(d)\n"
   ]
  },
  {
   "cell_type": "markdown",
   "metadata": {},
   "source": [
    "## question 4\n",
    "On peut trier une liste en donnant, comme argument à la méthode sort, une fonction qui va servir au tri. En l'occurrence, on va donner une fonction qui permet de retourner la valeur correspondant à la clé \"pts_diff\" des dictionnaires.\n",
    "\n",
    "Cette fonction peut être décrite comme une \"lambda fonction\". \n",
    "\n",
    "Par exemple, imaginons que liste = [{\"a\" : 1, \"b\" : 4}, {\"a\" : 8, \"b\" : 2}, {\"a\" : 3, \"b\" : 5}]\n",
    "\n",
    "Alors on peut : \n",
    "\n",
    "- trier liste par ordre croissant des valeurs de \"a\" ainsi : liste.sort(key = lambda dico : dico[\"a\"])\n",
    "- trier liste par ordre décroissant des valeurs de \"b\" ainsi : liste.sort(key = lambda dico : dico[\"b\"], reverse = True)\n",
    "- trier liste par ordre croissant des sommes des valeurs de \"a\" et de \"b\" ainsi : liste.sort(key = lambda dico : dico[\"a\"] + dico[\"b\"])\n",
    "\n",
    "Remarque : le nom \"dico\" est ici \"transparent\", il ne sert qu'à définir l'image d'un dictionnaire par la fonction lambda.\n",
    "\n",
    "Ecrivez une fonction *trier_liste_bilans(liste_des_bilans, valeur_servant_au_tri, croissant)* qui trie la liste passée en paramètre en fonction du critère de tri (par exemple \"pts_diff\") et du booléen *croissant* qui peut valoir True ou False."
   ]
  },
  {
   "cell_type": "code",
   "execution_count": null,
   "metadata": {},
   "outputs": [],
   "source": [
    "def trier_liste_bilans(liste_des_bilans, valeur_servant_au_tri, croissant) :\n",
    "    pass\n",
    "\n",
    "# test \n",
    "liste = liste_bilans(\"ligue1.csv\")\n",
    "\n",
    "trier_liste_bilans(liste, \"pts_diff\", False)\n",
    "print(\"tri décroissant par ordre de pts_diff\")\n",
    "for d in liste :\n",
    "    print(d)\n",
    "\n",
    "trier_liste_bilans(liste, \"pts_diff\", True)\n",
    "print(\"tri croissant par ordre de pts_diff\")\n",
    "for d in liste :\n",
    "    print(d)\n",
    "\n",
    "trier_liste_bilans(liste, \"nom\", True)\n",
    "print(\"tri croissant par ordre du nom\")\n",
    "for d in liste :\n",
    "    print(d)"
   ]
  },
  {
   "cell_type": "markdown",
   "metadata": {},
   "source": [
    "## question 5\n",
    "Ecrivez une fonction *sauvegarde(nomFichierOrigine, nomFichierSauvegarde)* qui sauvegarde l'ensemble du bilan dans un nouveau fichier csv. \n",
    "Ce bilan sera classé par ordre décroissant de \"pts_diff\", et on ne fera pas figurer dans le fichier de sauvegarde l'indicateur \"pts_diff\" qui n'a servi qu'à départager les équipes. C'est en fait le classement final, à comparer avec celui donné dans la page wikipédia."
   ]
  },
  {
   "cell_type": "code",
   "execution_count": null,
   "metadata": {},
   "outputs": [],
   "source": [
    "def sauvegarde(nomFichierOrigine, nomFichierSauvegarde) :\n",
    "    pass\n",
    "\n",
    "# test\n",
    "sauvegarde(\"ligue1.csv\", \"classement.csv\")   "
   ]
  }
 ],
 "metadata": {
  "kernelspec": {
   "display_name": "Python 3 (ipykernel)",
   "language": "python",
   "name": "python3"
  },
  "language_info": {
   "codemirror_mode": {
    "name": "ipython",
    "version": 3
   },
   "file_extension": ".py",
   "mimetype": "text/x-python",
   "name": "python",
   "nbconvert_exporter": "python",
   "pygments_lexer": "ipython3",
   "version": "3.10.12"
  }
 },
 "nbformat": 4,
 "nbformat_minor": 2
}
